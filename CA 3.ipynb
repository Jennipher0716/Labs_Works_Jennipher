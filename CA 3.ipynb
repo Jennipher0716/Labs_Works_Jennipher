{
 "cells": [
  {
   "cell_type": "code",
   "execution_count": 1,
   "id": "packed-picnic",
   "metadata": {},
   "outputs": [],
   "source": [
    "import numpy as np\n"
   ]
  },
  {
   "cell_type": "code",
   "execution_count": 2,
   "id": "million-mexico",
   "metadata": {},
   "outputs": [],
   "source": [
    "import pandas as pd\n"
   ]
  },
  {
   "cell_type": "markdown",
   "id": "aware-foster",
   "metadata": {},
   "source": [
    "import seaborn as sns"
   ]
  },
  {
   "cell_type": "code",
   "execution_count": 46,
   "id": "french-projection",
   "metadata": {},
   "outputs": [],
   "source": [
    "dataframe = pd.read_csv('marketing_customer_analysis.csv')"
   ]
  },
  {
   "cell_type": "code",
   "execution_count": 47,
   "id": "prospective-guinea",
   "metadata": {},
   "outputs": [],
   "source": [
    "# defined a function to do all the data transformation in one command:\n",
    "def cleanup(x):\n",
    "    print(\" \")\n",
    "    print(\"here is the head:\")\n",
    "    print(\" \")\n",
    "    print(x.head())\n",
    "    print(\" \")\n",
    "    print(\"here is the shape:\")\n",
    "    print(\" \")\n",
    "    print(x.shape)\n",
    "    cols = []\n",
    "    for i in range(len(x.columns)):\n",
    "        cols.append(x.columns[i].lower().replace(' ','_'))\n",
    "    x.columns = cols\n",
    "    print(\" \")\n",
    "    print(\"here are the cleaned standardized colums:\")\n",
    "    print(\" \")\n",
    "    print(x.columns)\n",
    "    print(\" \")\n",
    "    print(\"here are all numerical columns:\")\n",
    "    print(\" \")\n",
    "    print(x._get_numeric_data().columns)\n",
    "    print(\" \")\n",
    "    print(\"here are all categorical columns:\")\n",
    "    print(\" \")\n",
    "    print(x.drop(columns=x._get_numeric_data().columns))\n",
    "    print(\" \")\n",
    "    print(\"here are all nan values:\")\n",
    "    print(\" \")\n",
    "    print(x.isna().sum())\n",
    "    print(\" \")\n",
    "    print(\"now we extract the dates from the effective do date column and enter them in a new one while converting them to actual months\")\n",
    "    print(\" \")\n",
    "    x['month'] = pd.DatetimeIndex(x['effective_to_date']).month\n",
    "    print(\" \")\n",
    "    def month(a):\n",
    "        if a == 1:\n",
    "            return 'jan'\n",
    "        elif a == 2:\n",
    "            return 'feb'\n",
    "        else:\n",
    "            return 0\n",
    "    x['month']=list(map(month,x['month']))\n",
    "    print(x.head())"
   ]
  },
  {
   "cell_type": "code",
   "execution_count": 48,
   "id": "respected-wyoming",
   "metadata": {},
   "outputs": [
    {
     "name": "stdout",
     "output_type": "stream",
     "text": [
      " \n",
      "here is the head:\n",
      " \n",
      "  Customer       State  Customer Lifetime Value Response  Coverage Education  \\\n",
      "0  BU79786  Washington              2763.519279       No     Basic  Bachelor   \n",
      "1  QZ44356     Arizona              6979.535903       No  Extended  Bachelor   \n",
      "2  AI49188      Nevada             12887.431650       No   Premium  Bachelor   \n",
      "3  WW63253  California              7645.861827       No     Basic  Bachelor   \n",
      "4  HB64268  Washington              2813.692575       No     Basic  Bachelor   \n",
      "\n",
      "  Effective To Date EmploymentStatus Gender  Income  ...  \\\n",
      "0           2/24/11         Employed      F   56274  ...   \n",
      "1           1/31/11       Unemployed      F       0  ...   \n",
      "2           2/19/11         Employed      F   48767  ...   \n",
      "3           1/20/11       Unemployed      M       0  ...   \n",
      "4            2/3/11         Employed      M   43836  ...   \n",
      "\n",
      "  Months Since Policy Inception Number of Open Complaints  Number of Policies  \\\n",
      "0                             5                         0                   1   \n",
      "1                            42                         0                   8   \n",
      "2                            38                         0                   2   \n",
      "3                            65                         0                   7   \n",
      "4                            44                         0                   1   \n",
      "\n",
      "      Policy Type        Policy  Renew Offer Type  Sales Channel  \\\n",
      "0  Corporate Auto  Corporate L3            Offer1          Agent   \n",
      "1   Personal Auto   Personal L3            Offer3          Agent   \n",
      "2   Personal Auto   Personal L3            Offer1          Agent   \n",
      "3  Corporate Auto  Corporate L2            Offer1    Call Center   \n",
      "4   Personal Auto   Personal L1            Offer1          Agent   \n",
      "\n",
      "  Total Claim Amount  Vehicle Class Vehicle Size  \n",
      "0         384.811147   Two-Door Car      Medsize  \n",
      "1        1131.464935  Four-Door Car      Medsize  \n",
      "2         566.472247   Two-Door Car      Medsize  \n",
      "3         529.881344            SUV      Medsize  \n",
      "4         138.130879  Four-Door Car      Medsize  \n",
      "\n",
      "[5 rows x 24 columns]\n",
      " \n",
      "here is the shape:\n",
      " \n",
      "(9134, 24)\n",
      " \n",
      "here are the cleaned standardized colums:\n",
      " \n",
      "Index(['customer', 'state', 'customer_lifetime_value', 'response', 'coverage',\n",
      "       'education', 'effective_to_date', 'employmentstatus', 'gender',\n",
      "       'income', 'location_code', 'marital_status', 'monthly_premium_auto',\n",
      "       'months_since_last_claim', 'months_since_policy_inception',\n",
      "       'number_of_open_complaints', 'number_of_policies', 'policy_type',\n",
      "       'policy', 'renew_offer_type', 'sales_channel', 'total_claim_amount',\n",
      "       'vehicle_class', 'vehicle_size'],\n",
      "      dtype='object')\n",
      " \n",
      "here are all numerical columns:\n",
      " \n",
      "Index(['customer_lifetime_value', 'income', 'monthly_premium_auto',\n",
      "       'months_since_last_claim', 'months_since_policy_inception',\n",
      "       'number_of_open_complaints', 'number_of_policies',\n",
      "       'total_claim_amount'],\n",
      "      dtype='object')\n",
      " \n",
      "here are all categorical columns:\n",
      " \n",
      "     customer       state response  coverage education effective_to_date  \\\n",
      "0     BU79786  Washington       No     Basic  Bachelor           2/24/11   \n",
      "1     QZ44356     Arizona       No  Extended  Bachelor           1/31/11   \n",
      "2     AI49188      Nevada       No   Premium  Bachelor           2/19/11   \n",
      "3     WW63253  California       No     Basic  Bachelor           1/20/11   \n",
      "4     HB64268  Washington       No     Basic  Bachelor            2/3/11   \n",
      "...       ...         ...      ...       ...       ...               ...   \n",
      "9129  LA72316  California       No     Basic  Bachelor           2/10/11   \n",
      "9130  PK87824  California      Yes  Extended   College           2/12/11   \n",
      "9131  TD14365  California       No  Extended  Bachelor            2/6/11   \n",
      "9132  UP19263  California       No  Extended   College            2/3/11   \n",
      "9133  Y167826  California       No  Extended   College           2/14/11   \n",
      "\n",
      "     employmentstatus gender location_code marital_status     policy_type  \\\n",
      "0            Employed      F      Suburban        Married  Corporate Auto   \n",
      "1          Unemployed      F      Suburban         Single   Personal Auto   \n",
      "2            Employed      F      Suburban        Married   Personal Auto   \n",
      "3          Unemployed      M      Suburban        Married  Corporate Auto   \n",
      "4            Employed      M         Rural         Single   Personal Auto   \n",
      "...               ...    ...           ...            ...             ...   \n",
      "9129         Employed      M         Urban        Married   Personal Auto   \n",
      "9130         Employed      F      Suburban       Divorced  Corporate Auto   \n",
      "9131       Unemployed      M      Suburban         Single  Corporate Auto   \n",
      "9132         Employed      M      Suburban        Married   Personal Auto   \n",
      "9133       Unemployed      M      Suburban         Single  Corporate Auto   \n",
      "\n",
      "            policy renew_offer_type sales_channel  vehicle_class vehicle_size  \n",
      "0     Corporate L3           Offer1         Agent   Two-Door Car      Medsize  \n",
      "1      Personal L3           Offer3         Agent  Four-Door Car      Medsize  \n",
      "2      Personal L3           Offer1         Agent   Two-Door Car      Medsize  \n",
      "3     Corporate L2           Offer1   Call Center            SUV      Medsize  \n",
      "4      Personal L1           Offer1         Agent  Four-Door Car      Medsize  \n",
      "...            ...              ...           ...            ...          ...  \n",
      "9129   Personal L1           Offer2           Web  Four-Door Car      Medsize  \n",
      "9130  Corporate L3           Offer1        Branch  Four-Door Car      Medsize  \n",
      "9131  Corporate L2           Offer1        Branch  Four-Door Car      Medsize  \n",
      "9132   Personal L2           Offer3        Branch  Four-Door Car        Large  \n",
      "9133  Corporate L3           Offer4   Call Center   Two-Door Car      Medsize  \n",
      "\n",
      "[9134 rows x 16 columns]\n",
      " \n",
      "here are all nan values:\n",
      " \n",
      "customer                         0\n",
      "state                            0\n",
      "customer_lifetime_value          0\n",
      "response                         0\n",
      "coverage                         0\n",
      "education                        0\n",
      "effective_to_date                0\n",
      "employmentstatus                 0\n",
      "gender                           0\n",
      "income                           0\n",
      "location_code                    0\n",
      "marital_status                   0\n",
      "monthly_premium_auto             0\n",
      "months_since_last_claim          0\n",
      "months_since_policy_inception    0\n",
      "number_of_open_complaints        0\n",
      "number_of_policies               0\n",
      "policy_type                      0\n",
      "policy                           0\n",
      "renew_offer_type                 0\n",
      "sales_channel                    0\n",
      "total_claim_amount               0\n",
      "vehicle_class                    0\n",
      "vehicle_size                     0\n",
      "dtype: int64\n",
      " \n",
      "now we extract the dates from the effective do date column and enter them in a new one while converting them to actual months\n",
      " \n",
      " \n",
      "  customer       state  customer_lifetime_value response  coverage education  \\\n",
      "0  BU79786  Washington              2763.519279       No     Basic  Bachelor   \n",
      "1  QZ44356     Arizona              6979.535903       No  Extended  Bachelor   \n",
      "2  AI49188      Nevada             12887.431650       No   Premium  Bachelor   \n",
      "3  WW63253  California              7645.861827       No     Basic  Bachelor   \n",
      "4  HB64268  Washington              2813.692575       No     Basic  Bachelor   \n",
      "\n",
      "  effective_to_date employmentstatus gender  income  ...  \\\n",
      "0           2/24/11         Employed      F   56274  ...   \n",
      "1           1/31/11       Unemployed      F       0  ...   \n",
      "2           2/19/11         Employed      F   48767  ...   \n",
      "3           1/20/11       Unemployed      M       0  ...   \n",
      "4            2/3/11         Employed      M   43836  ...   \n",
      "\n",
      "  number_of_open_complaints number_of_policies     policy_type        policy  \\\n",
      "0                         0                  1  Corporate Auto  Corporate L3   \n",
      "1                         0                  8   Personal Auto   Personal L3   \n",
      "2                         0                  2   Personal Auto   Personal L3   \n",
      "3                         0                  7  Corporate Auto  Corporate L2   \n",
      "4                         0                  1   Personal Auto   Personal L1   \n",
      "\n",
      "   renew_offer_type  sales_channel  total_claim_amount  vehicle_class  \\\n",
      "0            Offer1          Agent          384.811147   Two-Door Car   \n",
      "1            Offer3          Agent         1131.464935  Four-Door Car   \n",
      "2            Offer1          Agent          566.472247   Two-Door Car   \n",
      "3            Offer1    Call Center          529.881344            SUV   \n",
      "4            Offer1          Agent          138.130879  Four-Door Car   \n",
      "\n",
      "  vehicle_size month  \n",
      "0      Medsize   feb  \n",
      "1      Medsize   jan  \n",
      "2      Medsize   feb  \n",
      "3      Medsize   jan  \n",
      "4      Medsize   feb  \n",
      "\n",
      "[5 rows x 25 columns]\n"
     ]
    }
   ],
   "source": [
    "cleanup(dataframe)"
   ]
  },
  {
   "cell_type": "markdown",
   "id": "democratic-plenty",
   "metadata": {},
   "source": [
    "DataFrame info.\n",
    "* Describe DataFrame.\n",
    "* Show a plot of the total number of responses broken down by response kind.\n",
    "* Show a plot of the response rate number of responses by the sales channel.\n",
    "* Show a plot of the response rate by the total claim amount. Show a plot of the distribution of the total claim amount, broken down by response kind. Try a boxplot and distribution plot, for each response kind. For the distribution plot, try to plot both kinds of responses in one chart (you can try with seaborn's histplot, using the hue parameter).\n",
    "* Show a plot of the response rate by income. Create similar plots like in the task before, but for Income\n",
    "* NEW: Create a scatterplot between total claim amount and income. Play around with the parameters of the scatterplot (markersize? alpha?) and try to identify more features within the data just visually. "
   ]
  },
  {
   "cell_type": "code",
   "execution_count": 74,
   "id": "entitled-observation",
   "metadata": {},
   "outputs": [
    {
     "data": {
      "text/html": [
       "<div>\n",
       "<style scoped>\n",
       "    .dataframe tbody tr th:only-of-type {\n",
       "        vertical-align: middle;\n",
       "    }\n",
       "\n",
       "    .dataframe tbody tr th {\n",
       "        vertical-align: top;\n",
       "    }\n",
       "\n",
       "    .dataframe thead th {\n",
       "        text-align: right;\n",
       "    }\n",
       "</style>\n",
       "<table border=\"1\" class=\"dataframe\">\n",
       "  <thead>\n",
       "    <tr style=\"text-align: right;\">\n",
       "      <th></th>\n",
       "      <th>customer</th>\n",
       "      <th>state</th>\n",
       "      <th>customer_lifetime_value</th>\n",
       "      <th>response</th>\n",
       "      <th>coverage</th>\n",
       "      <th>education</th>\n",
       "      <th>effective_to_date</th>\n",
       "      <th>employmentstatus</th>\n",
       "      <th>gender</th>\n",
       "      <th>income</th>\n",
       "      <th>...</th>\n",
       "      <th>number_of_open_complaints</th>\n",
       "      <th>number_of_policies</th>\n",
       "      <th>policy_type</th>\n",
       "      <th>policy</th>\n",
       "      <th>renew_offer_type</th>\n",
       "      <th>sales_channel</th>\n",
       "      <th>total_claim_amount</th>\n",
       "      <th>vehicle_class</th>\n",
       "      <th>vehicle_size</th>\n",
       "      <th>month</th>\n",
       "    </tr>\n",
       "  </thead>\n",
       "  <tbody>\n",
       "    <tr>\n",
       "      <th>0</th>\n",
       "      <td>BU79786</td>\n",
       "      <td>Washington</td>\n",
       "      <td>2763.519279</td>\n",
       "      <td>No</td>\n",
       "      <td>Basic</td>\n",
       "      <td>Bachelor</td>\n",
       "      <td>2/24/11</td>\n",
       "      <td>Employed</td>\n",
       "      <td>F</td>\n",
       "      <td>56274</td>\n",
       "      <td>...</td>\n",
       "      <td>0</td>\n",
       "      <td>1</td>\n",
       "      <td>Corporate Auto</td>\n",
       "      <td>Corporate L3</td>\n",
       "      <td>Offer1</td>\n",
       "      <td>Agent</td>\n",
       "      <td>384.811147</td>\n",
       "      <td>Two-Door Car</td>\n",
       "      <td>Medsize</td>\n",
       "      <td>feb</td>\n",
       "    </tr>\n",
       "    <tr>\n",
       "      <th>1</th>\n",
       "      <td>QZ44356</td>\n",
       "      <td>Arizona</td>\n",
       "      <td>6979.535903</td>\n",
       "      <td>No</td>\n",
       "      <td>Extended</td>\n",
       "      <td>Bachelor</td>\n",
       "      <td>1/31/11</td>\n",
       "      <td>Unemployed</td>\n",
       "      <td>F</td>\n",
       "      <td>0</td>\n",
       "      <td>...</td>\n",
       "      <td>0</td>\n",
       "      <td>8</td>\n",
       "      <td>Personal Auto</td>\n",
       "      <td>Personal L3</td>\n",
       "      <td>Offer3</td>\n",
       "      <td>Agent</td>\n",
       "      <td>1131.464935</td>\n",
       "      <td>Four-Door Car</td>\n",
       "      <td>Medsize</td>\n",
       "      <td>jan</td>\n",
       "    </tr>\n",
       "    <tr>\n",
       "      <th>2</th>\n",
       "      <td>AI49188</td>\n",
       "      <td>Nevada</td>\n",
       "      <td>12887.431650</td>\n",
       "      <td>No</td>\n",
       "      <td>Premium</td>\n",
       "      <td>Bachelor</td>\n",
       "      <td>2/19/11</td>\n",
       "      <td>Employed</td>\n",
       "      <td>F</td>\n",
       "      <td>48767</td>\n",
       "      <td>...</td>\n",
       "      <td>0</td>\n",
       "      <td>2</td>\n",
       "      <td>Personal Auto</td>\n",
       "      <td>Personal L3</td>\n",
       "      <td>Offer1</td>\n",
       "      <td>Agent</td>\n",
       "      <td>566.472247</td>\n",
       "      <td>Two-Door Car</td>\n",
       "      <td>Medsize</td>\n",
       "      <td>feb</td>\n",
       "    </tr>\n",
       "    <tr>\n",
       "      <th>3</th>\n",
       "      <td>WW63253</td>\n",
       "      <td>California</td>\n",
       "      <td>7645.861827</td>\n",
       "      <td>No</td>\n",
       "      <td>Basic</td>\n",
       "      <td>Bachelor</td>\n",
       "      <td>1/20/11</td>\n",
       "      <td>Unemployed</td>\n",
       "      <td>M</td>\n",
       "      <td>0</td>\n",
       "      <td>...</td>\n",
       "      <td>0</td>\n",
       "      <td>7</td>\n",
       "      <td>Corporate Auto</td>\n",
       "      <td>Corporate L2</td>\n",
       "      <td>Offer1</td>\n",
       "      <td>Call Center</td>\n",
       "      <td>529.881344</td>\n",
       "      <td>SUV</td>\n",
       "      <td>Medsize</td>\n",
       "      <td>jan</td>\n",
       "    </tr>\n",
       "    <tr>\n",
       "      <th>4</th>\n",
       "      <td>HB64268</td>\n",
       "      <td>Washington</td>\n",
       "      <td>2813.692575</td>\n",
       "      <td>No</td>\n",
       "      <td>Basic</td>\n",
       "      <td>Bachelor</td>\n",
       "      <td>2/3/11</td>\n",
       "      <td>Employed</td>\n",
       "      <td>M</td>\n",
       "      <td>43836</td>\n",
       "      <td>...</td>\n",
       "      <td>0</td>\n",
       "      <td>1</td>\n",
       "      <td>Personal Auto</td>\n",
       "      <td>Personal L1</td>\n",
       "      <td>Offer1</td>\n",
       "      <td>Agent</td>\n",
       "      <td>138.130879</td>\n",
       "      <td>Four-Door Car</td>\n",
       "      <td>Medsize</td>\n",
       "      <td>feb</td>\n",
       "    </tr>\n",
       "  </tbody>\n",
       "</table>\n",
       "<p>5 rows × 25 columns</p>\n",
       "</div>"
      ],
      "text/plain": [
       "  customer       state  customer_lifetime_value response  coverage education  \\\n",
       "0  BU79786  Washington              2763.519279       No     Basic  Bachelor   \n",
       "1  QZ44356     Arizona              6979.535903       No  Extended  Bachelor   \n",
       "2  AI49188      Nevada             12887.431650       No   Premium  Bachelor   \n",
       "3  WW63253  California              7645.861827       No     Basic  Bachelor   \n",
       "4  HB64268  Washington              2813.692575       No     Basic  Bachelor   \n",
       "\n",
       "  effective_to_date employmentstatus gender  income  ...  \\\n",
       "0           2/24/11         Employed      F   56274  ...   \n",
       "1           1/31/11       Unemployed      F       0  ...   \n",
       "2           2/19/11         Employed      F   48767  ...   \n",
       "3           1/20/11       Unemployed      M       0  ...   \n",
       "4            2/3/11         Employed      M   43836  ...   \n",
       "\n",
       "  number_of_open_complaints number_of_policies     policy_type        policy  \\\n",
       "0                         0                  1  Corporate Auto  Corporate L3   \n",
       "1                         0                  8   Personal Auto   Personal L3   \n",
       "2                         0                  2   Personal Auto   Personal L3   \n",
       "3                         0                  7  Corporate Auto  Corporate L2   \n",
       "4                         0                  1   Personal Auto   Personal L1   \n",
       "\n",
       "   renew_offer_type  sales_channel  total_claim_amount  vehicle_class  \\\n",
       "0            Offer1          Agent          384.811147   Two-Door Car   \n",
       "1            Offer3          Agent         1131.464935  Four-Door Car   \n",
       "2            Offer1          Agent          566.472247   Two-Door Car   \n",
       "3            Offer1    Call Center          529.881344            SUV   \n",
       "4            Offer1          Agent          138.130879  Four-Door Car   \n",
       "\n",
       "  vehicle_size month  \n",
       "0      Medsize   feb  \n",
       "1      Medsize   jan  \n",
       "2      Medsize   feb  \n",
       "3      Medsize   jan  \n",
       "4      Medsize   feb  \n",
       "\n",
       "[5 rows x 25 columns]"
      ]
     },
     "execution_count": 74,
     "metadata": {},
     "output_type": "execute_result"
    }
   ],
   "source": [
    "dataframe.head()"
   ]
  },
  {
   "cell_type": "code",
   "execution_count": 75,
   "id": "combined-auditor",
   "metadata": {},
   "outputs": [
    {
     "data": {
      "text/html": [
       "<div>\n",
       "<style scoped>\n",
       "    .dataframe tbody tr th:only-of-type {\n",
       "        vertical-align: middle;\n",
       "    }\n",
       "\n",
       "    .dataframe tbody tr th {\n",
       "        vertical-align: top;\n",
       "    }\n",
       "\n",
       "    .dataframe thead th {\n",
       "        text-align: right;\n",
       "    }\n",
       "</style>\n",
       "<table border=\"1\" class=\"dataframe\">\n",
       "  <thead>\n",
       "    <tr style=\"text-align: right;\">\n",
       "      <th></th>\n",
       "      <th>customer_lifetime_value</th>\n",
       "      <th>income</th>\n",
       "      <th>monthly_premium_auto</th>\n",
       "      <th>months_since_last_claim</th>\n",
       "      <th>months_since_policy_inception</th>\n",
       "      <th>number_of_open_complaints</th>\n",
       "      <th>number_of_policies</th>\n",
       "      <th>total_claim_amount</th>\n",
       "    </tr>\n",
       "  </thead>\n",
       "  <tbody>\n",
       "    <tr>\n",
       "      <th>count</th>\n",
       "      <td>9134.000000</td>\n",
       "      <td>9134.000000</td>\n",
       "      <td>9134.000000</td>\n",
       "      <td>9134.000000</td>\n",
       "      <td>9134.000000</td>\n",
       "      <td>9134.000000</td>\n",
       "      <td>9134.000000</td>\n",
       "      <td>9134.000000</td>\n",
       "    </tr>\n",
       "    <tr>\n",
       "      <th>mean</th>\n",
       "      <td>8004.940475</td>\n",
       "      <td>37657.380009</td>\n",
       "      <td>93.219291</td>\n",
       "      <td>15.097000</td>\n",
       "      <td>48.064594</td>\n",
       "      <td>0.384388</td>\n",
       "      <td>2.966170</td>\n",
       "      <td>434.088794</td>\n",
       "    </tr>\n",
       "    <tr>\n",
       "      <th>std</th>\n",
       "      <td>6870.967608</td>\n",
       "      <td>30379.904734</td>\n",
       "      <td>34.407967</td>\n",
       "      <td>10.073257</td>\n",
       "      <td>27.905991</td>\n",
       "      <td>0.910384</td>\n",
       "      <td>2.390182</td>\n",
       "      <td>290.500092</td>\n",
       "    </tr>\n",
       "    <tr>\n",
       "      <th>min</th>\n",
       "      <td>1898.007675</td>\n",
       "      <td>0.000000</td>\n",
       "      <td>61.000000</td>\n",
       "      <td>0.000000</td>\n",
       "      <td>0.000000</td>\n",
       "      <td>0.000000</td>\n",
       "      <td>1.000000</td>\n",
       "      <td>0.099007</td>\n",
       "    </tr>\n",
       "    <tr>\n",
       "      <th>25%</th>\n",
       "      <td>3994.251794</td>\n",
       "      <td>0.000000</td>\n",
       "      <td>68.000000</td>\n",
       "      <td>6.000000</td>\n",
       "      <td>24.000000</td>\n",
       "      <td>0.000000</td>\n",
       "      <td>1.000000</td>\n",
       "      <td>272.258244</td>\n",
       "    </tr>\n",
       "    <tr>\n",
       "      <th>50%</th>\n",
       "      <td>5780.182197</td>\n",
       "      <td>33889.500000</td>\n",
       "      <td>83.000000</td>\n",
       "      <td>14.000000</td>\n",
       "      <td>48.000000</td>\n",
       "      <td>0.000000</td>\n",
       "      <td>2.000000</td>\n",
       "      <td>383.945434</td>\n",
       "    </tr>\n",
       "    <tr>\n",
       "      <th>75%</th>\n",
       "      <td>8962.167041</td>\n",
       "      <td>62320.000000</td>\n",
       "      <td>109.000000</td>\n",
       "      <td>23.000000</td>\n",
       "      <td>71.000000</td>\n",
       "      <td>0.000000</td>\n",
       "      <td>4.000000</td>\n",
       "      <td>547.514839</td>\n",
       "    </tr>\n",
       "    <tr>\n",
       "      <th>max</th>\n",
       "      <td>83325.381190</td>\n",
       "      <td>99981.000000</td>\n",
       "      <td>298.000000</td>\n",
       "      <td>35.000000</td>\n",
       "      <td>99.000000</td>\n",
       "      <td>5.000000</td>\n",
       "      <td>9.000000</td>\n",
       "      <td>2893.239678</td>\n",
       "    </tr>\n",
       "  </tbody>\n",
       "</table>\n",
       "</div>"
      ],
      "text/plain": [
       "       customer_lifetime_value        income  monthly_premium_auto  \\\n",
       "count              9134.000000   9134.000000           9134.000000   \n",
       "mean               8004.940475  37657.380009             93.219291   \n",
       "std                6870.967608  30379.904734             34.407967   \n",
       "min                1898.007675      0.000000             61.000000   \n",
       "25%                3994.251794      0.000000             68.000000   \n",
       "50%                5780.182197  33889.500000             83.000000   \n",
       "75%                8962.167041  62320.000000            109.000000   \n",
       "max               83325.381190  99981.000000            298.000000   \n",
       "\n",
       "       months_since_last_claim  months_since_policy_inception  \\\n",
       "count              9134.000000                    9134.000000   \n",
       "mean                 15.097000                      48.064594   \n",
       "std                  10.073257                      27.905991   \n",
       "min                   0.000000                       0.000000   \n",
       "25%                   6.000000                      24.000000   \n",
       "50%                  14.000000                      48.000000   \n",
       "75%                  23.000000                      71.000000   \n",
       "max                  35.000000                      99.000000   \n",
       "\n",
       "       number_of_open_complaints  number_of_policies  total_claim_amount  \n",
       "count                9134.000000         9134.000000         9134.000000  \n",
       "mean                    0.384388            2.966170          434.088794  \n",
       "std                     0.910384            2.390182          290.500092  \n",
       "min                     0.000000            1.000000            0.099007  \n",
       "25%                     0.000000            1.000000          272.258244  \n",
       "50%                     0.000000            2.000000          383.945434  \n",
       "75%                     0.000000            4.000000          547.514839  \n",
       "max                     5.000000            9.000000         2893.239678  "
      ]
     },
     "execution_count": 75,
     "metadata": {},
     "output_type": "execute_result"
    }
   ],
   "source": [
    "dataframe.describe()"
   ]
  },
  {
   "cell_type": "code",
   "execution_count": 76,
   "id": "willing-chambers",
   "metadata": {},
   "outputs": [
    {
     "data": {
      "text/plain": [
       "No     7826\n",
       "Yes    1308\n",
       "Name: response, dtype: int64"
      ]
     },
     "execution_count": 76,
     "metadata": {},
     "output_type": "execute_result"
    }
   ],
   "source": [
    "#show plot of local number of responses\n",
    "dataframe.response.value_counts()"
   ]
  },
  {
   "cell_type": "code",
   "execution_count": 77,
   "id": "unauthorized-right",
   "metadata": {},
   "outputs": [
    {
     "data": {
      "text/plain": [
       "<AxesSubplot:>"
      ]
     },
     "execution_count": 77,
     "metadata": {},
     "output_type": "execute_result"
    },
    {
     "data": {
      "image/png": "[encoded data removed]",
      "text/plain": [
       "<Figure size 432x288 with 1 Axes>"
      ]
     },
     "metadata": {
      "needs_background": "light"
     },
     "output_type": "display_data"
    }
   ],
   "source": [
    "# bar plot for responses\n",
    "dataframe['response'].value_counts().plot(kind=\"bar\")\n"
   ]
  },
  {
   "cell_type": "code",
   "execution_count": 78,
   "id": "colonial-jason",
   "metadata": {},
   "outputs": [
    {
     "data": {
      "text/plain": [
       "<AxesSubplot:>"
      ]
     },
     "execution_count": 78,
     "metadata": {},
     "output_type": "execute_result"
    },
    {
     "data": {
      "image/png": "[encoded data removed]",
      "text/plain": [
       "<Figure size 432x288 with 1 Axes>"
      ]
     },
     "metadata": {
      "needs_background": "light"
     },
     "output_type": "display_data"
    }
   ],
   "source": [
    "# Responses by sales channels\n",
    "dataframe.sales_channel.value_counts().plot(kind=\"bar\")"
   ]
  },
  {
   "cell_type": "code",
   "execution_count": 79,
   "id": "appropriate-banking",
   "metadata": {},
   "outputs": [
    {
     "data": {
      "text/plain": [
       "<AxesSubplot:xlabel='response', ylabel='total_claim_amount'>"
      ]
     },
     "execution_count": 79,
     "metadata": {},
     "output_type": "execute_result"
    },
    {
     "data": {
      "image/png": "[encoded data removed]",
      "text/plain": [
       "<Figure size 432x288 with 1 Axes>"
      ]
     },
     "metadata": {
      "needs_background": "light"
     },
     "output_type": "display_data"
    }
   ],
   "source": [
    "# Plot of the distribution of the total claim amount, broken down by response kind\n",
    "sns.boxplot(y='total_claim_amount', x='response', data=dataframe, palette='colorblind')"
   ]
  },
  {
   "cell_type": "code",
   "execution_count": 80,
   "id": "million-stuff",
   "metadata": {},
   "outputs": [
    {
     "name": "stderr",
     "output_type": "stream",
     "text": [
      "C:\\Users\\Jennipher\\anaconda3\\lib\\site-packages\\seaborn\\distributions.py:2557: FutureWarning: `distplot` is a deprecated function and will be removed in a future version. Please adapt your code to use either `displot` (a figure-level function with similar flexibility) or `histplot` (an axes-level function for histograms).\n",
      "  warnings.warn(msg, FutureWarning)\n"
     ]
    },
    {
     "data": {
      "text/plain": [
       "<AxesSubplot:xlabel='total_claim_amount', ylabel='Density'>"
      ]
     },
     "execution_count": 80,
     "metadata": {},
     "output_type": "execute_result"
    },
    {
     "data": {
      "image/png": "[encoded data removed]",
      "text/plain": [
       "<Figure size 432x288 with 1 Axes>"
      ]
     },
     "metadata": {
      "needs_background": "light"
     },
     "output_type": "display_data"
    }
   ],
   "source": [
    "sns.distplot(dataframe['total_claim_amount'], bins=17)"
   ]
  },
  {
   "cell_type": "code",
   "execution_count": 81,
   "id": "demographic-dairy",
   "metadata": {},
   "outputs": [],
   "source": [
    "import matplotlib.pyplot as plt\n",
    "import seaborn as sns\n"
   ]
  },
  {
   "cell_type": "code",
   "execution_count": 82,
   "id": "infinite-memory",
   "metadata": {},
   "outputs": [],
   "source": [
    "# a plot of the response rate by the total claim amount, dist. of the total claim amount, broken down by response kind. \n",
    "# boxplot and distribution plot, for each response kind."
   ]
  },
  {
   "cell_type": "code",
   "execution_count": 86,
   "id": "national-mention",
   "metadata": {},
   "outputs": [
    {
     "ename": "SyntaxError",
     "evalue": "invalid syntax (<ipython-input-86-e6f29289780f>, line 1)",
     "output_type": "error",
     "traceback": [
      "\u001b[1;36m  File \u001b[1;32m\"<ipython-input-86-e6f29289780f>\"\u001b[1;36m, line \u001b[1;32m1\u001b[0m\n\u001b[1;33m    sns.distplot(dataframe[x=\"total_claim_amount\", hue=\"response\"].plot(kind=\"bar\")\u001b[0m\n\u001b[1;37m                            ^\u001b[0m\n\u001b[1;31mSyntaxError\u001b[0m\u001b[1;31m:\u001b[0m invalid syntax\n"
     ]
    }
   ],
   "source": [
    "sns.distplot(dataframe[x=\"total_claim_amount\", hue=\"response\"].plot(kind=\"bar\")"
   ]
  },
  {
   "cell_type": "code",
   "execution_count": 87,
   "id": "contained-webcam",
   "metadata": {},
   "outputs": [],
   "source": [
    "#a plot of the response rate by income. Create similar plots like in the task before, but for Income"
   ]
  },
  {
   "cell_type": "code",
   "execution_count": 88,
   "id": "juvenile-malpractice",
   "metadata": {},
   "outputs": [
    {
     "data": {
      "text/plain": [
       "<AxesSubplot:xlabel='response', ylabel='income'>"
      ]
     },
     "execution_count": 88,
     "metadata": {},
     "output_type": "execute_result"
    },
    {
     "data": {
      "image/png": "[encoded data removed]",
      "text/plain": [
       "<Figure size 432x288 with 1 Axes>"
      ]
     },
     "metadata": {
      "needs_background": "light"
     },
     "output_type": "display_data"
    }
   ],
   "source": [
    "sns.boxplot(y=\"income\", x=\"response\", data = dataframe)"
   ]
  },
  {
   "cell_type": "code",
   "execution_count": null,
   "id": "billion-meditation",
   "metadata": {},
   "outputs": [],
   "source": []
  },
  {
   "cell_type": "code",
   "execution_count": null,
   "id": "homeless-painting",
   "metadata": {},
   "outputs": [],
   "source": []
  }
 ],
 "metadata": {
  "kernelspec": {
   "display_name": "Python 3",
   "language": "python",
   "name": "python3"
  },
  "language_info": {
   "codemirror_mode": {
    "name": "ipython",
    "version": 3
   },
   "file_extension": ".py",
   "mimetype": "text/x-python",
   "name": "python",
   "nbconvert_exporter": "python",
   "pygments_lexer": "ipython3",
   "version": "3.8.5"
  }
 },
 "nbformat": 4,
 "nbformat_minor": 5
}
